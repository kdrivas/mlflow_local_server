{
 "cells": [
  {
   "cell_type": "code",
   "execution_count": 1,
   "metadata": {},
   "outputs": [],
   "source": [
    "import pandas as pd\n",
    "import numpy as np\n",
    "import awswrangler as wr\n",
    "import seaborn as sns\n",
    "import matplotlib.pyplot as plt\n",
    "from sklearn.model_selection import StratifiedKFold, train_test_split\n",
    "from sklearn.metrics import roc_auc_score, f1_score, average_precision_score\n",
    "from sklearn import tree\n",
    "import pickle\n",
    "from mlflow.tracking import MlflowClient\n",
    "import mlflow\n",
    "from datetime import date\n",
    "import datetime\n"
   ]
  },
  {
   "cell_type": "code",
   "execution_count": 2,
   "metadata": {},
   "outputs": [],
   "source": [
    "today = date.today()\n",
    "day, month, year = today.strftime(\"%d/%m/%Y\").split('/')\n",
    "period = year + month"
   ]
  },
  {
   "cell_type": "code",
   "execution_count": 3,
   "metadata": {},
   "outputs": [],
   "source": [
    "train = wr.s3.read_parquet(\"s3://rimac-analytics-temporal/individuals/Dante/covid-vida-v2/data/prec/train/data.parquet\")\n",
    "valid = wr.s3.read_parquet(\"s3://rimac-analytics-temporal/individuals/Dante/covid-vida-v2/data/prec/valid/data.parquet\")\n",
    "test = wr.s3.read_parquet(\"s3://rimac-analytics-temporal/individuals/Dante/covid-vida-v2/data/prec/test/data.parquet\")\n"
   ]
  },
  {
   "cell_type": "code",
   "execution_count": 39,
   "metadata": {},
   "outputs": [
    {
     "name": "stdout",
     "output_type": "stream",
     "text": [
      "Train AUC: 88.88 | Val AUC: 88.72 | Train Gini: 77.75 | Val Gini: 77.43\n",
      "\n",
      "artifact_uri=s3://rimac-analytics-temporal/individuals/Dante/covid-vida-v2/mlruns/7709e96756304c149fec68a417488c2e/artifacts\n"
     ]
    }
   ],
   "source": [
    "params = {'max_depth': 5, 'min_samples_leaf': 50, 'random_state': 0}\n",
    "\n",
    "try:\n",
    "    id_exp = MlflowClient().create_experiment('exp_3','s3://rimac-analytics-temporal/individuals/Dante/covid-vida-v2/mlruns')\n",
    "except:\n",
    "    id_exp = mlflow.get_experiment_by_name('exp_3').experiment_id\n",
    "\n",
    "with mlflow.start_run(experiment_id=id_exp) as run:\n",
    "    mlflow.log_params(params)\n",
    "    \n",
    "    X_train, y_train = train.drop(['target'], axis=1), train[['target']].astype(int)\n",
    "    X_val, y_val = valid.drop(['target'], axis=1), valid[['target']].astype(int)\n",
    "    \n",
    "    mlflow.log_param('columnas', X_train.columns)\n",
    "    clf = tree.DecisionTreeClassifier(**params)\n",
    "    clf = clf.fit(X_train, y_train)\n",
    "\n",
    "    y_trn_pred = clf.predict_proba(X_train)\n",
    "    y_val_pred = clf.predict_proba(X_val)\n",
    "        \n",
    "    trn_auc = roc_auc_score(y_train, y_trn_pred[:,1])\n",
    "    val_auc = roc_auc_score(y_val, y_val_pred[:,1])\n",
    "        \n",
    "    print(f'Train AUC: {100*trn_auc:.2f} | '\n",
    "              f'Val AUC: {100*val_auc:.2f} | '\n",
    "              f'Train Gini: {(100*trn_auc-50)*2:.2f} | '\n",
    "              f'Val Gini: {(100*val_auc-50)*2:.2f}')\n",
    "        \n",
    "    mlflow.log_metric('train_auc', trn_auc)\n",
    "    mlflow.log_metric('val_auc', val_auc)\n",
    "    mlflow.sklearn.log_model(clf, 'model')\n",
    "\n",
    "    df_val = pd.DataFrame()\n",
    "    df_val['pred'] = y_val_pred[:, 1]\n",
    "    df_val['target'] = y_val.target.reset_index(drop=True)\n",
    "    df_val['decile'], cuts= pd.qcut(y_val_pred[:, 1], 14, duplicates='drop', retbins=True)\n",
    "    np.save('cuts.npy', cuts)\n",
    "    mlflow.log_artifact('cuts.npy')\n",
    "    \n",
    "    mlflow.set_tag('period_train', period)\n",
    "    \n",
    "    print()\n",
    "    print(f\"artifact_uri={mlflow.get_artifact_uri()}\")\n",
    "    \n",
    "mlflow.end_run()"
   ]
  },
  {
   "cell_type": "code",
   "execution_count": null,
   "metadata": {},
   "outputs": [],
   "source": []
  }
 ],
 "metadata": {
  "kernelspec": {
   "display_name": "conda_python3",
   "language": "python",
   "name": "conda_python3"
  },
  "language_info": {
   "codemirror_mode": {
    "name": "ipython",
    "version": 3
   },
   "file_extension": ".py",
   "mimetype": "text/x-python",
   "name": "python",
   "nbconvert_exporter": "python",
   "pygments_lexer": "ipython3",
   "version": "3.6.10"
  }
 },
 "nbformat": 4,
 "nbformat_minor": 4
}
